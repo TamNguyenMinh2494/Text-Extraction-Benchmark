{
 "cells": [
  {
   "cell_type": "code",
   "execution_count": 1,
   "metadata": {},
   "outputs": [],
   "source": [
    "import os\n",
    "from pdfminer.pdfinterp import PDFResourceManager, PDFPageInterpreter\n",
    "from pdfminer.converter import TextConverter\n",
    "from pdfminer.layout import LAParams\n",
    "from pdfminer.pdfpage import PDFPage\n",
    "from io import StringIO\n",
    "\n",
    "from PyPDF2 import PdfFileReader\n",
    "import fitz\n",
    "import time\n",
    "\n",
    "import pandas as pd\n",
    "\n",
    "import tabula\n",
    "from pdfminer.high_level import extract_text\n",
    "import pdfplumber\n",
    "import pytesseract\n",
    "from pdf2image import convert_from_path\n"
   ]
  },
  {
   "cell_type": "code",
   "execution_count": 21,
   "metadata": {},
   "outputs": [],
   "source": [
    "def save_file(path, content):\n",
    "    with open(path, 'wb') as f:\n",
    "        f.write(content)"
   ]
  },
  {
   "cell_type": "code",
   "execution_count": 86,
   "metadata": {},
   "outputs": [],
   "source": [
    "runtime = []\n",
    "def timeit(func):\n",
    "    def wrapper(*args, **kwargs):\n",
    "        start = time.time()\n",
    "        res = func(*args, **kwargs)\n",
    "        end = time.time()\n",
    "        diff = end - start\n",
    "        runtime.append({'function': func.__name__, 'time':round(diff, 4)})\n",
    "        # print('Function: {0} run time: {1} seconds'.format(\n",
    "        #     func.__name__, diff))\n",
    "        return res\n",
    "    return wrapper"
   ]
  },
  {
   "cell_type": "code",
   "execution_count": 87,
   "metadata": {},
   "outputs": [],
   "source": [
    "@timeit\n",
    "def PDF2TextCustom(path):\n",
    "    # convert pdf to text\n",
    "    rsrcmgr = PDFResourceManager()\n",
    "    retstr = StringIO()\n",
    "    codec = 'utf-8'\n",
    "    laparams = LAParams()\n",
    "    device = TextConverter(rsrcmgr, retstr, codec=codec, laparams=laparams)\n",
    "    fp = open(path, 'rb')\n",
    "    interpreter = PDFPageInterpreter(rsrcmgr, device)\n",
    "    password = \"\"\n",
    "    maxpages = 0\n",
    "    caching = True\n",
    "    pagenos = set()\n",
    "\n",
    "    for page in PDFPage.get_pages(fp, pagenos, maxpages=maxpages, password=password, caching=caching, check_extractable=True):\n",
    "        interpreter.process_page(page)\n",
    "\n",
    "    text = retstr.getvalue()\n",
    "\n",
    "    fp.close()\n",
    "    device.close()\n",
    "    retstr.close()\n",
    "    return text"
   ]
  },
  {
   "cell_type": "code",
   "execution_count": 88,
   "metadata": {},
   "outputs": [],
   "source": [
    "@timeit\n",
    "def PDF2TextPyPDF2(path):\n",
    "    # convert pdf to text with pypdf2\n",
    "    with open(path, 'rb') as f:\n",
    "        pdf = PdfFileReader(f)\n",
    "        info = pdf.getDocumentInfo()\n",
    "        number_of_pages = pdf.getNumPages()\n",
    "\n",
    "        text = ''\n",
    "        for i in range(number_of_pages):\n",
    "            page = pdf.getPage(i)\n",
    "            text += page.extractText()\n",
    "    return text"
   ]
  },
  {
   "cell_type": "code",
   "execution_count": 89,
   "metadata": {},
   "outputs": [],
   "source": [
    "@timeit\n",
    "def PDF2TextPyMuPDF(path):\n",
    "    text = ''\n",
    "    with fitz.open(path) as doc:\n",
    "        for page in doc:\n",
    "            text += page.get_text()\n",
    "    return text"
   ]
  },
  {
   "cell_type": "code",
   "execution_count": 90,
   "metadata": {},
   "outputs": [],
   "source": [
    "@timeit\n",
    "def PDF2TextTabula(path):\n",
    "    # convert pdf to text with tabula\n",
    "    \n",
    "    df = tabula.read_pdf(path, pages='all')\n",
    "    return df"
   ]
  },
  {
   "cell_type": "code",
   "execution_count": 91,
   "metadata": {},
   "outputs": [],
   "source": [
    "@timeit\n",
    "def PDF2TextPDFMiner(path):\n",
    "    # convert pdf to text with pdfminer\n",
    "    \n",
    "    text = extract_text(path)\n",
    "    return text"
   ]
  },
  {
   "cell_type": "code",
   "execution_count": 92,
   "metadata": {},
   "outputs": [],
   "source": [
    "@timeit\n",
    "def PDF2TextPDFPlumber(path):\n",
    "    # convert pdf to text with pdfplumber\n",
    "    with pdfplumber.open(path) as pdf:\n",
    "        text = ''\n",
    "        for page in pdf.pages:\n",
    "            text += page.extract_text()\n",
    "    return text"
   ]
  },
  {
   "cell_type": "code",
   "execution_count": 93,
   "metadata": {},
   "outputs": [],
   "source": [
    "@timeit\n",
    "def PDF2TextPDF2Image(path):\n",
    "    # convert pdf to text with pdf2image\n",
    "    \n",
    "    images = convert_from_path(path)\n",
    "    text = ''\n",
    "    for image in images:\n",
    "        text += pytesseract.image_to_string(image)\n",
    "    return text"
   ]
  },
  {
   "cell_type": "code",
   "execution_count": 101,
   "metadata": {},
   "outputs": [],
   "source": [
    "def run():\n",
    "    runtime.clear()\n",
    "    path = 'sample.pdf'\n",
    "    text = PDF2TextCustom(path)\n",
    "    text = PDF2TextPyPDF2(path)\n",
    "    text = PDF2TextPyMuPDF(path)\n",
    "    text = PDF2TextTabula(path)\n",
    "    text = PDF2TextPDFMiner(path)\n",
    "    text = PDF2TextPDFPlumber(path)\n",
    "    # text = PDF2TextPDF2Image(path)\n",
    "    print(runtime)"
   ]
  },
  {
   "cell_type": "code",
   "execution_count": 95,
   "metadata": {},
   "outputs": [],
   "source": [
    "# visualize the result by matplotlib\n",
    "import matplotlib.pyplot as plt\n",
    "import numpy as np\n",
    "\n",
    "def visualize():\n",
    "    # set size of the figure\n",
    "    plt.rcParams['figure.figsize'] = [10, 5]\n",
    "    \n",
    "    # show all the results in a bar chart\n",
    "    labels = ['Custom', 'PyPDF2', 'PyMuPDF', 'Tabula', 'PDFMiner', 'PDFPlumber']\n",
    "\n",
    "    # run time in seconds\n",
    "    run_time = [x['time'] for x in runtime]\n",
    "    x = np.arange(len(labels))  # the label locations\n",
    "    width = 0.35  # the width of the bars\n",
    "    \n",
    "    fig, ax = plt.subplots()\n",
    "    rects1 = ax.bar(x - width/2, run_time, width, label='Run Time')\n",
    "\n",
    "    # show the value on top of the bar\n",
    "    for rect in rects1:\n",
    "        height = rect.get_height()\n",
    "        ax.annotate('{}'.format(height),\n",
    "                    xy=(rect.get_x() + rect.get_width() / 2, height),\n",
    "                    xytext=(0, 3),  # 3 points vertical offset\n",
    "                    textcoords=\"offset points\",\n",
    "                    ha='center', va='bottom')\n",
    "                    \n",
    "\n",
    "    # Add some text for labels, title and custom x-axis tick labels, etc.\n",
    "    ax.set_ylabel('Run Time (seconds)')\n",
    "    ax.set_title('Run Time Comparison')\n",
    "    ax.set_xticks(x)\n",
    "    ax.set_xticklabels(labels)\n",
    "    ax.legend()\n",
    "\n",
    "    fig.tight_layout()\n",
    "    \n",
    "    plt.show()"
   ]
  },
  {
   "cell_type": "code",
   "execution_count": 102,
   "metadata": {},
   "outputs": [
    {
     "name": "stderr",
     "output_type": "stream",
     "text": [
      "Got stderr: Dec 10, 2022 12:50:47 AM org.apache.pdfbox.pdmodel.font.PDSimpleFont toUnicode\n",
      "WARNING: No Unicode mapping for summationdisplay (88) in font BEAJLU+CMEX10\n",
      "Dec 10, 2022 12:50:47 AM org.apache.pdfbox.pdmodel.font.PDSimpleFont toUnicode\n",
      "WARNING: No Unicode mapping for integraldisplay (90) in font BEAJLU+CMEX10\n",
      "Dec 10, 2022 12:50:47 AM org.apache.pdfbox.pdmodel.font.PDSimpleFont toUnicode\n",
      "WARNING: No Unicode mapping for radicalBigg (115) in font BEAJLU+CMEX10\n",
      "Dec 10, 2022 12:50:47 AM org.apache.pdfbox.pdmodel.font.PDSimpleFont toUnicode\n",
      "WARNING: No Unicode mapping for radicalbigg (114) in font BEAJLU+CMEX10\n",
      "Dec 10, 2022 12:50:47 AM org.apache.pdfbox.pdmodel.font.PDSimpleFont toUnicode\n",
      "WARNING: No Unicode mapping for radicalbig (112) in font BEAJLU+CMEX10\n",
      "Dec 10, 2022 12:50:48 AM org.apache.pdfbox.pdmodel.font.PDSimpleFont toUnicode\n",
      "WARNING: No Unicode mapping for negationslash (54) in font TWPXIW+CMSY10\n",
      "Dec 10, 2022 12:50:48 AM org.apache.pdfbox.pdmodel.font.PDSimpleFont toUnicode\n",
      "WARNING: No Unicode mapping for negationslash (54) in font CJYIFD+CMSY8\n",
      "\n"
     ]
    },
    {
     "name": "stdout",
     "output_type": "stream",
     "text": [
      "[{'function': 'PDF2TextCustom', 'time': 0.2268}, {'function': 'PDF2TextPyPDF2', 'time': 0.0574}, {'function': 'PDF2TextPyMuPDF', 'time': 0.0113}, {'function': 'PDF2TextTabula', 'time': 1.9899}, {'function': 'PDF2TextPDFMiner', 'time': 0.2293}, {'function': 'PDF2TextPDFPlumber', 'time': 0.2685}]\n"
     ]
    },
    {
     "data": {
      "image/png": "[encoded data removed]",
      "text/plain": [
       "<Figure size 720x360 with 1 Axes>"
      ]
     },
     "metadata": {
      "needs_background": "light"
     },
     "output_type": "display_data"
    }
   ],
   "source": [
    "\n",
    "if __name__ == '__main__':\n",
    "    run()\n",
    "    visualize()"
   ]
  }
 ],
 "metadata": {
  "kernelspec": {
   "display_name": "tf",
   "language": "python",
   "name": "python3"
  },
  "language_info": {
   "codemirror_mode": {
    "name": "ipython",
    "version": 3
   },
   "file_extension": ".py",
   "mimetype": "text/x-python",
   "name": "python",
   "nbconvert_exporter": "python",
   "pygments_lexer": "ipython3",
   "version": "3.9.12"
  },
  "orig_nbformat": 4,
  "vscode": {
   "interpreter": {
    "hash": "78428f8f9ff5cfc6f6d27d09dede0c12383bf2ae466dbebacc7662c0676fe13f"
   }
  }
 },
 "nbformat": 4,
 "nbformat_minor": 2
}
